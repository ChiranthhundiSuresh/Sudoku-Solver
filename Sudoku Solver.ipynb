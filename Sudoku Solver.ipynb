{
 "cells": [
  {
   "cell_type": "markdown",
   "id": "efa0b196-5bec-42dc-b996-7eb675769c9a",
   "metadata": {},
   "source": [
    "# Sudoku Solver"
   ]
  },
  {
   "cell_type": "markdown",
   "id": "831c2573-b8e0-441e-ac45-722a811e8801",
   "metadata": {},
   "source": [
    "#### Step 1: Import required libraries (optional for enhanced debugging and pretty printing)"
   ]
  },
  {
   "cell_type": "code",
   "execution_count": 1,
   "id": "507a1e93-f82c-4098-9a01-5c6886ff00ad",
   "metadata": {},
   "outputs": [],
   "source": [
    "import numpy as np"
   ]
  },
  {
   "cell_type": "markdown",
   "id": "f17e698e-f347-45b6-ba8e-2c0de949d910",
   "metadata": {},
   "source": [
    "####  Step 2: Define the Sudoku grid\r",
    "##### Use a 9x9 grid where 0 represents an empty cell"
   ]
  },
  {
   "cell_type": "code",
   "execution_count": 76,
   "id": "53078a58-61d3-4b1e-ae01-1f4902a02810",
   "metadata": {},
   "outputs": [],
   "source": [
    "sudoku_grid = [\n",
    "    [5, 3, 0, 0, 7, 0, 0, 0, 0],\n",
    "    [6, 0, 0, 1, 9, 5, 0, 0, 0],\n",
    "    [0, 9, 8, 0, 0, 0, 0, 6, 0],\n",
    "    [8, 0, 0, 0, 6, 0, 0, 0, 3],\n",
    "    [4, 0, 0, 8, 0, 0, 0, 0, 1],\n",
    "    [7, 0, 0, 0, 2, 0, 0, 0, 6],\n",
    "    [0, 6, 0, 0, 0, 0, 2, 8, 0],\n",
    "    [0, 0, 0, 0, 1, 9, 0, 0, 5],\n",
    "    [0, 0, 0, 0, 8, 0, 0, 7, 9]\n",
    "]"
   ]
  },
  {
   "cell_type": "markdown",
   "id": "11c6966a-9b1e-49b1-9c9d-915ce84574c3",
   "metadata": {},
   "source": [
    "#### Step 3: Define a function to print the Sudoku grid neatly"
   ]
  },
  {
   "cell_type": "code",
   "execution_count": 78,
   "id": "5ec2c4a0-95d9-4ed1-a245-3957b3dbdc93",
   "metadata": {},
   "outputs": [],
   "source": [
    "def print_grid(grid):\n",
    "    for row in grid:\n",
    "        print(row)"
   ]
  },
  {
   "cell_type": "markdown",
   "id": "4029ebb5-c1c0-4fc6-a9f6-fd2da4af557b",
   "metadata": {},
   "source": [
    "#### Step 4: Check if a number can be placed in a given position"
   ]
  },
  {
   "cell_type": "code",
   "execution_count": 80,
   "id": "36db74b5-3c39-44f1-bcf6-b6ccac8fc30a",
   "metadata": {},
   "outputs": [],
   "source": [
    "def is_valid(grid, row, col, num):\n",
    "    for i in range(9): # check the rows\n",
    "        if grid[row][i] == num:\n",
    "            return False\n",
    "\n",
    "    for i in range(9): # check the column\n",
    "        if grid[i][col] == num:\n",
    "            return False\n",
    "\n",
    "    start_row, start_col = 3 * (row // 3), 3 * (col // 3) # check the 3x3 subgird\n",
    "    for i in range(start_row, start_row + 3):\n",
    "        for j in range(start_col, start_col + 3):\n",
    "            if grid[i][j] == num:\n",
    "                return False\n",
    "    \n",
    "    return True"
   ]
  },
  {
   "cell_type": "markdown",
   "id": "b3eba669-7b2a-44fd-a1c0-3b0f2ea039f3",
   "metadata": {},
   "source": [
    "#### Step 5: Solve the Sudoku using backtracking"
   ]
  },
  {
   "cell_type": "code",
   "execution_count": 82,
   "id": "c08febae-2255-4bcc-8026-6cf1ce5aea11",
   "metadata": {},
   "outputs": [],
   "source": [
    "def solve_sudoku(grid):\n",
    "    for row in range(9):\n",
    "        for col in range(9):\n",
    "            # Check for an empty cell\n",
    "            if grid[row][col] == 0:\n",
    "                # Try placing numbers 1 through 9\n",
    "                for num in range(1, 10):\n",
    "                    if is_valid(grid, row, col, num):\n",
    "                        grid[row][col] = num  # Place the number\n",
    "                        \n",
    "                        # Recursively attempt to solve the rest\n",
    "                        if solve_sudoku(grid):\n",
    "                            return True\n",
    "                        \n",
    "                        # Undo the move if it doesn't lead to a solution\n",
    "                        grid[row][col] = 0\n",
    "                \n",
    "                # If no number fits, return False\n",
    "                return False\n",
    "    \n",
    "    # If no empty cells remain, the puzzle is solved\n",
    "    return True"
   ]
  },
  {
   "cell_type": "markdown",
   "id": "077c50b3-57da-4e95-8fb6-4ec1e6a5f1f3",
   "metadata": {},
   "source": [
    "#### Step 6: Solve and display the Sudoku grid"
   ]
  },
  {
   "cell_type": "code",
   "execution_count": 84,
   "id": "aa07d295-4e2e-4ef5-8f0b-856a8a03331e",
   "metadata": {},
   "outputs": [
    {
     "name": "stdout",
     "output_type": "stream",
     "text": [
      "Original Sudoku Grid:\n",
      "[5, 3, 0, 0, 7, 0, 0, 0, 0]\n",
      "[6, 0, 0, 1, 9, 5, 0, 0, 0]\n",
      "[0, 9, 8, 0, 0, 0, 0, 6, 0]\n",
      "[8, 0, 0, 0, 6, 0, 0, 0, 3]\n",
      "[4, 0, 0, 8, 0, 0, 0, 0, 1]\n",
      "[7, 0, 0, 0, 2, 0, 0, 0, 6]\n",
      "[0, 6, 0, 0, 0, 0, 2, 8, 0]\n",
      "[0, 0, 0, 0, 1, 9, 0, 0, 5]\n",
      "[0, 0, 0, 0, 8, 0, 0, 7, 9]\n"
     ]
    }
   ],
   "source": [
    "print(\"Original Sudoku Grid:\")\n",
    "print_grid(sudoku_grid)\n"
   ]
  },
  {
   "cell_type": "code",
   "execution_count": 86,
   "id": "834180ca-9abd-4ba9-8319-2f83a4da16d3",
   "metadata": {},
   "outputs": [
    {
     "name": "stdout",
     "output_type": "stream",
     "text": [
      "\n",
      " Solved Sudoku Grid:\n",
      "[5, 3, 4, 6, 7, 8, 9, 1, 2]\n",
      "[6, 7, 2, 1, 9, 5, 3, 4, 8]\n",
      "[1, 9, 8, 3, 4, 2, 5, 6, 7]\n",
      "[8, 5, 9, 7, 6, 1, 4, 2, 3]\n",
      "[4, 2, 6, 8, 5, 3, 7, 9, 1]\n",
      "[7, 1, 3, 9, 2, 4, 8, 5, 6]\n",
      "[9, 6, 1, 5, 3, 7, 2, 8, 4]\n",
      "[2, 8, 7, 4, 1, 9, 6, 3, 5]\n",
      "[3, 4, 5, 2, 8, 6, 1, 7, 9]\n"
     ]
    }
   ],
   "source": [
    "if solve_sudoku(sudoku_grid):\n",
    "    print(\"\\n Solved Sudoku Grid:\")\n",
    "    print_grid(sudoku_grid)\n",
    "else:\n",
    "    print(\"\\n No Solution Exists for the given Sudoku Grid.\")"
   ]
  },
  {
   "cell_type": "code",
   "execution_count": null,
   "id": "596a15d8-4bc6-4803-af83-dda530452310",
   "metadata": {},
   "outputs": [],
   "source": []
  }
 ],
 "metadata": {
  "kernelspec": {
   "display_name": "Python 3 (ipykernel)",
   "language": "python",
   "name": "python3"
  },
  "language_info": {
   "codemirror_mode": {
    "name": "ipython",
    "version": 3
   },
   "file_extension": ".py",
   "mimetype": "text/x-python",
   "name": "python",
   "nbconvert_exporter": "python",
   "pygments_lexer": "ipython3",
   "version": "3.12.4"
  }
 },
 "nbformat": 4,
 "nbformat_minor": 5
}
